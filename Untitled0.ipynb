{
  "nbformat": 4,
  "nbformat_minor": 0,
  "metadata": {
    "colab": {
      "name": "Untitled0.ipynb",
      "provenance": [],
      "authorship_tag": "ABX9TyNUsS37fJ0aae07RNbCMV10",
      "include_colab_link": true
    },
    "kernelspec": {
      "name": "python3",
      "display_name": "Python 3"
    }
  },
  "cells": [
    {
      "cell_type": "markdown",
      "metadata": {
        "id": "view-in-github",
        "colab_type": "text"
      },
      "source": [
        "<a href=\"https://colab.research.google.com/github/AlibekMamyrbekov/ADSMs-git/blob/master/Untitled0.ipynb\" target=\"_parent\"><img src=\"https://colab.research.google.com/assets/colab-badge.svg\" alt=\"Open In Colab\"/></a>"
      ]
    },
    {
      "cell_type": "code",
      "metadata": {
        "id": "Ni6Kfk-Sq0t0",
        "colab_type": "code",
        "colab": {
          "base_uri": "https://localhost:8080/",
          "height": 122
        },
        "outputId": "10b8f85c-4c6a-413f-e473-aea81ea1e16e"
      },
      "source": [
        "from google.colab import drive\n",
        "drive.mount('/gdrive')"
      ],
      "execution_count": 1,
      "outputs": [
        {
          "output_type": "stream",
          "text": [
            "Go to this URL in a browser: https://accounts.google.com/o/oauth2/auth?client_id=947318989803-6bn6qk8qdgf4n4g3pfee6491hc0brc4i.apps.googleusercontent.com&redirect_uri=urn%3aietf%3awg%3aoauth%3a2.0%3aoob&response_type=code&scope=email%20https%3a%2f%2fwww.googleapis.com%2fauth%2fdocs.test%20https%3a%2f%2fwww.googleapis.com%2fauth%2fdrive%20https%3a%2f%2fwww.googleapis.com%2fauth%2fdrive.photos.readonly%20https%3a%2f%2fwww.googleapis.com%2fauth%2fpeopleapi.readonly\n",
            "\n",
            "Enter your authorization code:\n",
            "··········\n",
            "Mounted at /gdrive\n"
          ],
          "name": "stdout"
        }
      ]
    },
    {
      "cell_type": "code",
      "metadata": {
        "id": "01ZeE1nMq37L",
        "colab_type": "code",
        "colab": {
          "base_uri": "https://localhost:8080/",
          "height": 34
        },
        "outputId": "a0498b8d-3854-46ed-b837-298edcb8f861"
      },
      "source": [
        "%cd /gdrive/My\\ Drive/\n"
      ],
      "execution_count": 5,
      "outputs": [
        {
          "output_type": "stream",
          "text": [
            "/gdrive/My Drive\n"
          ],
          "name": "stdout"
        }
      ]
    },
    {
      "cell_type": "code",
      "metadata": {
        "id": "YhUZRvPrrCtn",
        "colab_type": "code",
        "colab": {
          "base_uri": "https://localhost:8080/",
          "height": 34
        },
        "outputId": "95130081-a37f-4b0e-b352-ffcae0fe2e7f"
      },
      "source": [
        "%dirs"
      ],
      "execution_count": 6,
      "outputs": [
        {
          "output_type": "execute_result",
          "data": {
            "text/plain": [
              "[]"
            ]
          },
          "metadata": {
            "tags": []
          },
          "execution_count": 6
        }
      ]
    },
    {
      "cell_type": "code",
      "metadata": {
        "id": "IxdYMSAorIvZ",
        "colab_type": "code",
        "colab": {
          "base_uri": "https://localhost:8080/",
          "height": 1000
        },
        "outputId": "e4f3f8e5-3616-4e13-f23f-cb85e1e5abce"
      },
      "source": [
        "%ls"
      ],
      "execution_count": 7,
      "outputs": [
        {
          "output_type": "stream",
          "text": [
            " 901977173.7z\n",
            " \u001b[0m\u001b[01;36mAlibek\u001b[0m@\n",
            " \u001b[01;34mbackup\u001b[0m/\n",
            " bilety.gdoc\n",
            "'bp (1) (1).pdf'\n",
            "'bp (1).pdf'\n",
            " Challenge.gsheet\n",
            "'Chocolife.me - дисконты.pdf'\n",
            "\u001b[01;34m'Colab Notebooks'\u001b[0m/\n",
            "'Copy GCP.gform'\n",
            " %d0%9f%d1%80%d0%be%d1%82%d0%be%d0%ba%d0%be%d0%bb%20%d0%be%d0%b1%d1%8a%d0%b5%d0%b4%d0%b8%d0%bd%d0%b5%d0%bd%d0%bd%d1%8b%d0%b9%20%d0%9f%d0%90_30.04.2015.docx\n",
            " %d1%81%d0%b8%d0%bd%d0%be%d0%bf%d1%81%d0%b8%d1%81%20%d0%be%d0%b1%d1%8a%d0%b5%d0%b4%d0%b8%d0%bd%d0%b5%d0%bd%d0%bd%d1%8b%d0%b9%20%d0%9f%d0%90%20%d0%93%d0%96.docx\n",
            " %d1%81%d0%b8%d0%bd%d0%be%d0%bf%d1%81%d0%b8%d1%81%20%d0%be%d0%b1%d1%8a%d0%b5%d0%b4%d0%b8%d0%bd%d0%b5%d0%bd%d0%bd%d1%8b%d0%b9%20%d0%9f%d0%9029.04.2015.ENG.docx\n",
            "'DISK1 (1).7z'\n",
            " DISK1.7z\n",
            " document.xls\n",
            " F3055549.pdf\n",
            " final_Far_Advanced_Soft_Enggi_Masters-1.docx\n",
            " final_Far_Advanced_Soft_Enggi_Masters-2.docx\n",
            " final_Far_Advanced_Soft_Enggi_Masters.docx\n",
            " GAK_Questions.docx\n",
            " \u001b[01;34mGrades\u001b[0m/\n",
            "'http:  static.1.txt'\n",
            "'ICarnegie diploma.jpg'\n",
            " IMG_9520.JPG\n",
            "'ISOE diploma.jpg'\n",
            "'It iS Time foR ResT=).gform'\n",
            " Journey1.gmap\n",
            " jupiter-611.rar\n",
            " \u001b[01;34mkitaptar_installations\u001b[0m/\n",
            "'Lacture 2.gslides'\n",
            " Lecture.docx\n",
            " Main.docx\n",
            "'Mamyrbekov Masters.pdf'\n",
            " Minecraft_XLauncher_1_6_61.7z\n",
            " \u001b[01;34mP\u001b[0m/\n",
            "'Pharma multy.7z'\n",
            "\u001b[01;34m'Photo session'\u001b[0m/\n",
            "\u001b[01;34m'Photo uzatu'\u001b[0m/\n",
            " po_formatu_Grid_Sistemy_voprosy.doc\n",
            " Presentation.gslides\n",
            " \u001b[01;34mProjects\u001b[0m/\n",
            " randomization.exe.7z\n",
            " randomization_v600.zip\n",
            "'SCAID_01 (1).tar'\n",
            " SCAID_01.tar\n",
            "'Survey obesity(Ответы).gsheet'\n",
            "'Swim_Lane (1).sdr'\n",
            "'Trip .gmap'\n",
            " \u001b[01;34mUlzhan\u001b[0m/\n",
            "'Untitled presentation.gslides'\n",
            " VAA_webform.zip\n",
            "'WhatsApp Chat - Айко.zip'\n",
            " YouTube\n",
            "'Акт выполненых работ NCPP №5-1.docx'\n",
            "'Акт выполненых работ NCPP №5-2.docx'\n",
            "'Акт выполненых работ NCPP №5.docx'\n",
            " \u001b[01;34mАлибек\u001b[0m/\n",
            "'Для сайта ИС.xlsx.gsheet'\n",
            " ЕГКН.zip\n",
            " ИКТ_книга-1.docx\n",
            " ИКТ_книга.docx\n",
            "'Инструкция ПА.docx'\n",
            "'Копия Explore example.gsheet'\n",
            "'Копия ОП  презентация.gslides'\n",
            "'Копия Тестовое задание на аналитика Skyeng v3.gdoc'\n",
            "'Нагрузка ИС.xlsx.gsheet'\n",
            "'«Надлежащая клиническая практика».gform'\n",
            "'«Надлежащая клиническая практика» (Ответы).gsheet'\n",
            "'Новая таблица.gsheet'\n",
            "'Новая форма (Ответы).gsheet'\n",
            "'Общая по курсам (результаты рубежных контролей).xlsx'\n",
            "'ОП  презентация.gslides'\n",
            "'Памятка программа 5+.docx'\n",
            "'План повышения квалификации на 2017-2018.gdoc'\n",
            "'Правила Страхования 10.02.14.docx'\n",
            "'Презентация без названия (1).gslides'\n",
            "'Презентация без названия (2).gslides'\n",
            "'Презентация без названия.gslides'\n",
            "'Процедура рандомизация.gform'\n",
            "'Публичный договор 5+.docx'\n",
            "'Разреш МЗ-ПА-кардио.pdf'\n",
            "'Скан Прот Субст для таблмассы-1.doc'\n",
            "'Скан Прот Субст для таблмассы.doc'\n",
            "'Снимок экрана 2019—12—01 в 00.00.36.png'\n",
            "'Статья1 РМ анг 05.13.pdf'\n",
            "'статья2 РМ анг 06.13.pdf'\n",
            "'Тестовое задание на аналитика Skyeng v3.gdoc'\n"
          ],
          "name": "stdout"
        }
      ]
    },
    {
      "cell_type": "code",
      "metadata": {
        "id": "XMYEmiXcrKgc",
        "colab_type": "code",
        "colab": {
          "base_uri": "https://localhost:8080/",
          "height": 34
        },
        "outputId": "0ff89534-be77-4a4f-fae3-78e6d514a162"
      },
      "source": [
        "%cd Photo\\ session\n"
      ],
      "execution_count": 10,
      "outputs": [
        {
          "output_type": "stream",
          "text": [
            "/gdrive/My Drive/Photo session\n"
          ],
          "name": "stdout"
        }
      ]
    },
    {
      "cell_type": "code",
      "metadata": {
        "id": "vOyVJGx5vRhr",
        "colab_type": "code",
        "colab": {
          "base_uri": "https://localhost:8080/",
          "height": 34
        },
        "outputId": "afa033d7-86c5-4479-e9c4-d46199d7c988"
      },
      "source": [
        "pwd"
      ],
      "execution_count": 11,
      "outputs": [
        {
          "output_type": "execute_result",
          "data": {
            "text/plain": [
              "'/gdrive/My Drive/Photo session'"
            ]
          },
          "metadata": {
            "tags": []
          },
          "execution_count": 11
        }
      ]
    },
    {
      "cell_type": "code",
      "metadata": {
        "id": "6V-qjN7evV8t",
        "colab_type": "code",
        "colab": {
          "base_uri": "https://localhost:8080/",
          "height": 34
        },
        "outputId": "1077dfff-fc63-4a91-86a7-a0da2cb4f482"
      },
      "source": [
        "%ls"
      ],
      "execution_count": 12,
      "outputs": [
        {
          "output_type": "stream",
          "text": [
            "\u001b[0m\u001b[01;36mAlibek\u001b[0m@\n"
          ],
          "name": "stdout"
        }
      ]
    },
    {
      "cell_type": "code",
      "metadata": {
        "id": "aOVgRfxgvlZu",
        "colab_type": "code",
        "colab": {
          "base_uri": "https://localhost:8080/",
          "height": 34
        },
        "outputId": "d423c18b-8cd0-40ed-b054-f6288527ec55"
      },
      "source": [
        "%cd Alibek\n"
      ],
      "execution_count": 14,
      "outputs": [
        {
          "output_type": "stream",
          "text": [
            "/gdrive/.shortcut-targets-by-id/1fl0o9Dh9Mh7RfzTwGZ67vZNhdpILkvoS/Alibek\n"
          ],
          "name": "stdout"
        }
      ]
    },
    {
      "cell_type": "code",
      "metadata": {
        "id": "Scv2bsvbvoDp",
        "colab_type": "code",
        "colab": {}
      },
      "source": [
        "!cp -r '/gdrive/.shortcut-targets-by-id/1fl0o9Dh9Mh7RfzTwGZ67vZNhdpILkvoS/Alibek' '/gdrive/My Drive/Photo session/Photos'"
      ],
      "execution_count": 0,
      "outputs": []
    },
    {
      "cell_type": "markdown",
      "metadata": {
        "id": "5CLtlNazxfmj",
        "colab_type": "text"
      },
      "source": [
        ""
      ]
    },
    {
      "cell_type": "code",
      "metadata": {
        "id": "OP2EU1WBvx65",
        "colab_type": "code",
        "colab": {}
      },
      "source": [
        ""
      ],
      "execution_count": 0,
      "outputs": []
    },
    {
      "cell_type": "markdown",
      "metadata": {
        "id": "AhrklESexf_F",
        "colab_type": "text"
      },
      "source": [
        ""
      ]
    }
  ]
}